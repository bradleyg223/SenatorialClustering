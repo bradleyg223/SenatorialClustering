{
 "cells": [
  {
   "cell_type": "markdown",
   "metadata": {},
   "source": [
    "# Senatorial Clustering\n",
    "by Brad Gasdia\n"
   ]
  },
  {
   "cell_type": "markdown",
   "metadata": {},
   "source": [
    "# Executive Summary\n",
    "In Robert Caro's book The Master of the Senate, he describes Lyndon B. Johnson's exceptional ability to predict the voting habits of his fellow senators. \n",
    "Because some senators are secretive of their intents in future votes, what we have to rely on then is their previous votes, coupled with the expressed intentions of their constituents."
   ]
  },
  {
   "cell_type": "code",
   "execution_count": null,
   "metadata": {},
   "outputs": [],
   "source": []
  },
  {
   "cell_type": "code",
   "execution_count": 1,
   "metadata": {},
   "outputs": [],
   "source": [
    "# packages for data procesing\n",
    "import pandas as pd\n",
    "from numpy import where\n",
    "\n",
    "# sklearn packages for decomposition and clustering\n",
    "from sklearn.decomposition import PCA\n",
    "from sklearn.cluster import KMeans\n",
    "\n",
    "# import packages for web scraping\n",
    "from bs4 import BeautifulSoup\n",
    "import requests\n",
    "\n",
    "#viz\n",
    "import matplotlib.pyplot as plt"
   ]
  },
  {
   "cell_type": "code",
   "execution_count": 528,
   "metadata": {},
   "outputs": [],
   "source": [
    "congress = 101\n",
    "session = 1\n",
    "url = f'https://www.senate.gov/legislative/LIS/roll_call_lists/vote_menu_{congress}_{session}.htm'\n",
    "page = requests.get(url)\n",
    "soup = BeautifulSoup(page.content, 'html.parser')"
   ]
  },
  {
   "cell_type": "code",
   "execution_count": 529,
   "metadata": {},
   "outputs": [],
   "source": [
    "# find table with id of 'listOfVotes_info'\n",
    "table = soup.find('table', id='listOfVotes')\n",
    "table = table.prettify()\n",
    "\n",
    "import re\n",
    "\n",
    "# get urls from scraped link. Each URL we will use contains votes\n",
    "urls = re.findall(r'href=[\\'\"]?([^\\'\" >]+)', table)\n",
    "urls = [url for url in urls if 'roll_call_votes' in url]"
   ]
  },
  {
   "cell_type": "code",
   "execution_count": 530,
   "metadata": {},
   "outputs": [],
   "source": [
    "votes = []\n",
    "\n",
    "# for loop, scraping each page\n",
    "for url in urls:\n",
    "    vote_url = 'https://www.senate.gov{vote}'.format(vote=url)\n",
    "\n",
    "    page = requests.get(vote_url)\n",
    "    soup = BeautifulSoup(page.content, 'html.parser')\n",
    "\n",
    "        # get div with class newspaperDisplay_3column\n",
    "    div = soup.find('div', class_='newspaperDisplay_3column')\n",
    "    vote_det = div.prettify().split('\\n  </b>')\n",
    "    voter = [i.split('\\n')[2] for i in vote_det]\n",
    "    casted = [i.split('\\n')[4] for i in vote_det]\n",
    "    id_vote = [url.split('/')[-1].split('.')[0]] * len(voter)\n",
    "\n",
    "    votes.append([voter, casted, id_vote])\n",
    "\n",
    "df = pd.concat([pd.DataFrame(votes[i]).T for i in range(len(votes))])\n",
    "df.columns=['Senator', 'Cast', 'Vote']\n",
    "df = df[df['Cast']!='']\n",
    "df['Cast'] = df['Cast'].str.strip()"
   ]
  },
  {
   "cell_type": "code",
   "execution_count": 531,
   "metadata": {},
   "outputs": [
    {
     "data": {
      "text/html": [
       "<div>\n",
       "<style scoped>\n",
       "    .dataframe tbody tr th:only-of-type {\n",
       "        vertical-align: middle;\n",
       "    }\n",
       "\n",
       "    .dataframe tbody tr th {\n",
       "        vertical-align: top;\n",
       "    }\n",
       "\n",
       "    .dataframe thead th {\n",
       "        text-align: right;\n",
       "    }\n",
       "</style>\n",
       "<table border=\"1\" class=\"dataframe\">\n",
       "  <thead>\n",
       "    <tr style=\"text-align: right;\">\n",
       "      <th></th>\n",
       "      <th>Senator</th>\n",
       "      <th>Cast</th>\n",
       "      <th>Vote</th>\n",
       "    </tr>\n",
       "  </thead>\n",
       "  <tbody>\n",
       "    <tr>\n",
       "      <th>0</th>\n",
       "      <td>Adams (D-WA),</td>\n",
       "      <td>Yea</td>\n",
       "      <td>vote_101_1_00312</td>\n",
       "    </tr>\n",
       "    <tr>\n",
       "      <th>1</th>\n",
       "      <td>Armstrong (R-CO),</td>\n",
       "      <td>Yea</td>\n",
       "      <td>vote_101_1_00312</td>\n",
       "    </tr>\n",
       "    <tr>\n",
       "      <th>2</th>\n",
       "      <td>Baucus (D-MT),</td>\n",
       "      <td>Yea</td>\n",
       "      <td>vote_101_1_00312</td>\n",
       "    </tr>\n",
       "    <tr>\n",
       "      <th>3</th>\n",
       "      <td>Bentsen (D-TX),</td>\n",
       "      <td>Yea</td>\n",
       "      <td>vote_101_1_00312</td>\n",
       "    </tr>\n",
       "    <tr>\n",
       "      <th>4</th>\n",
       "      <td>Biden (D-DE),</td>\n",
       "      <td>Yea</td>\n",
       "      <td>vote_101_1_00312</td>\n",
       "    </tr>\n",
       "    <tr>\n",
       "      <th>...</th>\n",
       "      <td>...</td>\n",
       "      <td>...</td>\n",
       "      <td>...</td>\n",
       "    </tr>\n",
       "    <tr>\n",
       "      <th>95</th>\n",
       "      <td>Thurmond (R-SC),</td>\n",
       "      <td>Yea</td>\n",
       "      <td>vote_101_1_00001</td>\n",
       "    </tr>\n",
       "    <tr>\n",
       "      <th>96</th>\n",
       "      <td>Wallop (R-WY),</td>\n",
       "      <td>Yea</td>\n",
       "      <td>vote_101_1_00001</td>\n",
       "    </tr>\n",
       "    <tr>\n",
       "      <th>97</th>\n",
       "      <td>Warner (R-VA),</td>\n",
       "      <td>Yea</td>\n",
       "      <td>vote_101_1_00001</td>\n",
       "    </tr>\n",
       "    <tr>\n",
       "      <th>98</th>\n",
       "      <td>Wilson (R-CA),</td>\n",
       "      <td>Yea</td>\n",
       "      <td>vote_101_1_00001</td>\n",
       "    </tr>\n",
       "    <tr>\n",
       "      <th>99</th>\n",
       "      <td>Wirth (D-CO),</td>\n",
       "      <td>Yea</td>\n",
       "      <td>vote_101_1_00001</td>\n",
       "    </tr>\n",
       "  </tbody>\n",
       "</table>\n",
       "<p>31200 rows × 3 columns</p>\n",
       "</div>"
      ],
      "text/plain": [
       "                Senator Cast              Vote\n",
       "0         Adams (D-WA),  Yea  vote_101_1_00312\n",
       "1     Armstrong (R-CO),  Yea  vote_101_1_00312\n",
       "2        Baucus (D-MT),  Yea  vote_101_1_00312\n",
       "3       Bentsen (D-TX),  Yea  vote_101_1_00312\n",
       "4         Biden (D-DE),  Yea  vote_101_1_00312\n",
       "..                  ...  ...               ...\n",
       "95     Thurmond (R-SC),  Yea  vote_101_1_00001\n",
       "96       Wallop (R-WY),  Yea  vote_101_1_00001\n",
       "97       Warner (R-VA),  Yea  vote_101_1_00001\n",
       "98       Wilson (R-CA),  Yea  vote_101_1_00001\n",
       "99        Wirth (D-CO),  Yea  vote_101_1_00001\n",
       "\n",
       "[31200 rows x 3 columns]"
      ]
     },
     "execution_count": 531,
     "metadata": {},
     "output_type": "execute_result"
    }
   ],
   "source": [
    "df"
   ]
  },
  {
   "cell_type": "markdown",
   "metadata": {},
   "source": [
    "We now have a dtaframe of senators and their votes. I'm going to ignore impeachment votes temporarily. A few methods as I cluster\n",
    "\n",
    "1. Yea as 1, nay as -1, and abstain as 0\n",
    "2. Yea as 1, nay as -1, and imputate Present"
   ]
  },
  {
   "cell_type": "code",
   "execution_count": 532,
   "metadata": {},
   "outputs": [],
   "source": [
    "df['cast_recode'] = where(df['Cast'].str.contains('Yea'), 1, df.Cast)\n",
    "df['cast_recode'] = where(df['Cast'].str.contains('Guilty'), 1, df.cast_recode)\n",
    "df['cast_recode'] = where(df['Cast'].str.contains('Nay'), 0, df.cast_recode)\n",
    "df['cast_recode'] = where(df['Cast'].str.contains('Not Guilty'), 0, df.cast_recode)\n",
    "# if not voting or present, then 0\n",
    "df['cast_recode'] = where(df['Cast'].str.contains('Not Voting|Present, Giving Live Pair'), 0, df.cast_recode)\n",
    "df['cast_recode'] = where(df['Cast'] == 'Present', 0, df.cast_recode)\n",
    "df['cast_recode'] = df['cast_recode'].astype(int)"
   ]
  },
  {
   "cell_type": "code",
   "execution_count": 533,
   "metadata": {},
   "outputs": [],
   "source": [
    "df_pivot = df.pivot(index='Senator', columns='Vote', values='cast_recode').reset_index()\n",
    "# group senators by max vote number, and drop 0's\n",
    "drop_id = df_pivot[df_pivot.columns[2:]].abs().sum(axis=1).where(df_pivot[df_pivot.columns[2:]].abs().sum(axis=1)<50).dropna().index\n",
    "\n",
    "# get records of senators who voted\n",
    "df_pivot = df_pivot.drop(drop_id, axis=0)\n",
    "\n",
    "df_pivot.reset_index(inplace=True, drop=True)"
   ]
  },
  {
   "cell_type": "code",
   "execution_count": 569,
   "metadata": {},
   "outputs": [],
   "source": [
    "# flatten the dataframe\n",
    "X = df_pivot.drop(['Senator'], axis=1).values.astype(int)\n",
    "X_transform = PCA().fit_transform(X)"
   ]
  },
  {
   "cell_type": "code",
   "execution_count": 570,
   "metadata": {},
   "outputs": [],
   "source": [
    "from matplotlib.colors import ListedColormap\n",
    "\n",
    "colors = ['red', 'blue', 'green']\n",
    "cmap = ListedColormap(colors)\n",
    "\n",
    "# map R to 0, D to 1, I to 2\n",
    "party = [i.split('(')[-1][0] for i in df_pivot.Senator]\n",
    "party = [0 if i == 'R' else 1 if i == 'D' else 2 for i in party]"
   ]
  },
  {
   "cell_type": "code",
   "execution_count": 571,
   "metadata": {},
   "outputs": [
    {
     "name": "stderr",
     "output_type": "stream",
     "text": [
      "<ipython-input-571-3901650370b8>:18: MatplotlibDeprecationWarning:\n",
      "\n",
      "Adding an axes using the same arguments as a previous axes currently reuses the earlier instance.  In a future version, a new instance will always be created and returned.  Meanwhile, this warning can be suppressed, and the future behavior ensured, by passing a unique label to each axes instance.\n",
      "\n"
     ]
    },
    {
     "data": {
      "image/png": "[encoded data removed]",
      "text/plain": [
       "<Figure size 720x720 with 1 Axes>"
      ]
     },
     "metadata": {
      "needs_background": "light"
     },
     "output_type": "display_data"
    }
   ],
   "source": [
    "size_title = 24\n",
    "size_label = 20\n",
    "\n",
    "plt.figure(figsize=(10,10))\n",
    "plt.title('Senate Voting Patterns Decomposed', fontsize=size_title)\n",
    "\n",
    "# map party colors, R = 1, D = 2, I = 3\n",
    "# make R red, d blue, i green\n",
    "plt.scatter(X_transform[:, 0], X_transform[:, 1], c=party, cmap=cmap, s=50)\n",
    "plt.xlabel('PC1', fontsize=size_label)\n",
    "plt.ylabel('PC2', fontsize=size_label)\n",
    "\n",
    "# add legend\n",
    "import matplotlib.patches as mpatches\n",
    "\n",
    "legend_elements = [mpatches.Patch(color='red'), mpatches.Patch(color='blue'), mpatches.Patch(color='green')]\n",
    "\n",
    "ax = plt.subplot()\n",
    "\n",
    "ax.legend(legend_elements, ['GOP', 'DEM', 'IND'], fontsize=size_label, \n",
    "            loc='center left', bbox_to_anchor=(1, .5), title='Party')\n",
    "\n",
    "plt.show()"
   ]
  },
  {
   "cell_type": "code",
   "execution_count": 540,
   "metadata": {},
   "outputs": [],
   "source": [
    "# cluster\n",
    "kmeans = KMeans(n_clusters=4, random_state=0).fit(X_transform)\n",
    "df_pivot['cluster'] = kmeans.labels_"
   ]
  },
  {
   "cell_type": "code",
   "execution_count": 542,
   "metadata": {},
   "outputs": [
    {
     "data": {
      "application/vnd.plotly.v1+json": {
       "config": {
        "plotlyServerURL": "https://plot.ly"
       },
       "data": [
        {
         "hovertemplate": "<b>%{hovertext}</b><br><br>x=%{x}<br>y=%{y}<br>z=%{z}<br>color=%{marker.color}<extra></extra>",
         "hovertext": [
          "  Adams (D-WA),",
          "  Armstrong (R-CO),",
          "  Baucus (D-MT),",
          "  Bentsen (D-TX),",
          "  Biden (D-DE),",
          "  Bingaman (D-NM),",
          "  Bond (R-MO),",
          "  Boren (D-OK),",
          "  Boschwitz (R-MN),",
          "  Bradley (D-NJ),",
          "  Breaux (D-LA),",
          "  Bryan (D-NV),",
          "  Bumpers (D-AR),",
          "  Burdick (D-ND),",
          "  Burns (R-MT),",
          "  Byrd (D-WV),",
          "  Chafee (R-RI),",
          "  Coats (R-IN),",
          "  Cochran (R-MS),",
          "  Cohen (R-ME),",
          "  Conrad (D-ND),",
          "  Cranston (D-CA),",
          "  D'Amato (R-NY),",
          "  Danforth (R-MO),",
          "  Daschle (D-SD),",
          "  DeConcini (D-AZ),",
          "  Dixon (D-IL),",
          "  Dodd (D-CT),",
          "  Dole (R-KS),",
          "  Domenici (R-NM),",
          "  Durenberger (R-MN),",
          "  Exon (D-NE),",
          "  Ford (D-KY),",
          "  Fowler (D-GA),",
          "  Garn (R-UT),",
          "  Glenn (D-OH),",
          "  Gore (D-TN),",
          "  Gorton (R-WA),",
          "  Graham (D-FL),",
          "  Gramm (R-TX),",
          "  Grassley (R-IA),",
          "  Harkin (D-IA),",
          "  Hatch (R-UT),",
          "  Hatfield (R-OR),",
          "  Heflin (D-AL),",
          "  Heinz (R-PA),",
          "  Helms (R-NC),",
          "  Hollings (D-SC),",
          "  Humphrey (R-NH),",
          "  Inouye (D-HI),",
          "  Jeffords (R-VT),",
          "  Johnston (D-LA),",
          "  Kassebaum (R-KS),",
          "  Kasten (R-WI),",
          "  Kennedy (D-MA),",
          "  Kerrey (D-NE),",
          "  Kerry (D-MA),",
          "  Kohl (D-WI),",
          "  Lautenberg (D-NJ),",
          "  Leahy (D-VT),",
          "  Levin (D-MI),",
          "  Lieberman (D-CT),",
          "  Lott (R-MS),",
          "  Lugar (R-IN),",
          "  Mack (R-FL),",
          "  Matsunaga (D-HI),",
          "  McCain (R-AZ),",
          "  McClure (R-ID),",
          "  McConnell (R-KY),",
          "  Metzenbaum (D-OH),",
          "  Mikulski (D-MD),",
          "  Mitchell (D-ME),",
          "  Moynihan (D-NY),",
          "  Murkowski (R-AK),",
          "  Nickles (R-OK),",
          "  Nunn (D-GA),",
          "  Packwood (R-OR),",
          "  Pell (D-RI),",
          "  Pressler (R-SD),",
          "  Pryor (D-AR),",
          "  Reid (D-NV),",
          "  Riegle (D-MI),",
          "  Robb (D-VA),",
          "  Rockefeller (D-WV),",
          "  Roth (R-DE),",
          "  Rudman (R-NH),",
          "  Sanford (D-NC),",
          "  Sarbanes (D-MD),",
          "  Sasser (D-TN),",
          "  Shelby (D-AL),",
          "  Simon (D-IL),",
          "  Simpson (R-WY),",
          "  Specter (R-PA),",
          "  Stevens (R-AK),",
          "  Symms (R-ID),",
          "  Thurmond (R-SC),",
          "  Wallop (R-WY),",
          "  Warner (R-VA),",
          "  Wilson (R-CA),",
          "  Wirth (D-CO),"
         ],
         "legendgroup": "",
         "marker": {
          "color": [
           3,
           2,
           1,
           1,
           3,
           3,
           2,
           1,
           2,
           3,
           1,
           1,
           3,
           3,
           2,
           3,
           0,
           2,
           2,
           0,
           1,
           3,
           0,
           2,
           3,
           1,
           1,
           3,
           2,
           2,
           0,
           1,
           1,
           1,
           2,
           3,
           3,
           2,
           3,
           2,
           2,
           3,
           2,
           0,
           2,
           0,
           2,
           1,
           2,
           3,
           0,
           1,
           2,
           2,
           3,
           3,
           3,
           3,
           3,
           3,
           3,
           3,
           2,
           2,
           2,
           3,
           2,
           2,
           2,
           3,
           3,
           3,
           3,
           2,
           2,
           1,
           0,
           3,
           2,
           3,
           1,
           3,
           1,
           3,
           2,
           0,
           3,
           3,
           3,
           1,
           3,
           2,
           0,
           0,
           2,
           2,
           2,
           2,
           2,
           3
          ],
          "coloraxis": "coloraxis",
          "symbol": "circle"
         },
         "mode": "markers",
         "name": "",
         "scene": "scene",
         "showlegend": false,
         "type": "scatter3d",
         "x": [
          -5.096420944470527,
          5.659179273444895,
          -1.7439906176466813,
          -1.8875918502192879,
          -3.693808426521914,
          -3.6974635384966636,
          4.574129355694363,
          0.03353514320914194,
          3.925869807232326,
          -3.7895458828620185,
          -1.0651576720338058,
          -2.569894378055279,
          -4.182287505353557,
          -4.454566353304164,
          5.323593982275256,
          -3.2691559719076277,
          0.7765762549887772,
          4.713795894350589,
          4.361091884748496,
          0.27405362630525565,
          -2.1226771205961064,
          -4.884981044546233,
          0.8340079702581568,
          3.0761794868490475,
          -4.3567300150029595,
          -1.666531867251681,
          -0.8546036471887668,
          -4.165729283057137,
          4.75445927230663,
          3.687634176046971,
          0.7339917937952186,
          -0.16187536127661548,
          -1.3461024403547903,
          -2.258996649606616,
          5.727364469724745,
          -3.1834780338978064,
          -2.3417969807808974,
          3.5034473129058137,
          -2.0613853003813407,
          5.542854893723711,
          5.037965118824222,
          -3.4158895404621137,
          4.3969882267649405,
          -1.183906255869539,
          1.8473482440346467,
          0.5198950700951965,
          5.642192849509292,
          -0.503524999468008,
          4.8487831895674285,
          -3.462260568557947,
          -0.4946889671779903,
          -1.6588184122302339,
          2.7663790407592592,
          4.6578817993143415,
          -4.545404245718013,
          -3.9254214375232857,
          -3.8613192587174194,
          -4.1654710363053775,
          -3.920132271104123,
          -5.331882520864642,
          -3.4400076954255097,
          -3.518658874393253,
          5.2749263437560705,
          3.886516902858167,
          5.037954913288649,
          -2.3868229502528333,
          4.686582399860229,
          5.721137032332709,
          5.33270980491836,
          -5.266221030035386,
          -5.000081224869811,
          -3.9084942756870684,
          -4.1857912202696665,
          4.624264418576566,
          5.896075571610772,
          -1.623658463303481,
          0.6056932554409865,
          -4.3544485088192975,
          3.3848796610601646,
          -3.2132292950343704,
          -2.0155900816052927,
          -4.578406536542234,
          -1.972076874422729,
          -3.240558103365415,
          4.410887948401326,
          1.991305963250846,
          -3.436798915985457,
          -4.928060118292927,
          -4.307892235854819,
          0.8243533508323939,
          -4.284375028814711,
          3.896584997164897,
          0.6303006686513759,
          2.4576844802648257,
          6.321543912276367,
          5.66104230424422,
          5.933834106820727,
          4.244415021174548,
          3.2709803389972167,
          -4.328209700724707
         ],
         "y": [
          2.068049251379131,
          2.8818634236160285,
          0.23698421775337147,
          -2.010572374775953,
          2.368274592886173,
          1.4208074995910362,
          -1.1660464850325043,
          -1.3819012768674528,
          -0.3929401725505871,
          1.9340958243364186,
          -0.7788614968415947,
          -0.1076137186816229,
          -1.2495770222225806,
          1.3147444197730433,
          -0.47581545779217554,
          -1.7171591833245752,
          -2.376201871024459,
          2.5302404174355475,
          -2.211862124398822,
          -1.8789338513823688,
          0.28250033205906544,
          1.0389032633240352,
          2.0790469805206264,
          -2.2374044038861145,
          -1.039241519731324,
          0.555003167911651,
          0.2992258425558697,
          0.7064467990508945,
          -1.5861862603905446,
          -0.999400876668421,
          -1.680034017788231,
          0.2778539579667348,
          -0.9131814732287927,
          -1.6791017020007377,
          -0.14164348988186723,
          -1.448365124843484,
          -0.9058990467249345,
          -0.9360990802196855,
          1.8865246688901203,
          0.16662489753602727,
          0.29486242982193744,
          3.0414774605387684,
          2.855908700608145,
          -1.77936756933628,
          3.615114324447729,
          -1.1384281170715307,
          1.0894238841929995,
          -1.3705083331197039,
          -0.12184515197038194,
          -2.0040985946583127,
          0.5443941155132412,
          -1.0606290918408454,
          -2.184020417846818,
          0.05243950623406669,
          -1.9587858055440128,
          -1.1623516048652331,
          0.19654590381057002,
          -0.5134842447738777,
          -0.7510664715906684,
          0.9449837823994298,
          1.8533477623105554,
          1.6104183459691688,
          2.3599208820430717,
          -2.058617462072304,
          3.3565779692890256,
          -0.5967499176687476,
          -0.2335217241621028,
          -0.44120159414303584,
          0.6353515928326642,
          1.8784299221996703,
          1.3240866593524259,
          -2.0688347330097314,
          0.8459859179809665,
          -0.4614904193736702,
          0.29186058527437986,
          -0.9617907662722653,
          0.6887537835715453,
          -0.6140520526593473,
          1.4593045322059068,
          1.8060257859873194,
          -0.06491946869584189,
          -1.1542335479055839,
          -1.8540473468675376,
          -0.841563317967521,
          -1.4813900526690102,
          -2.1850000322847323,
          1.0591655204787627,
          -1.2962978771405955,
          0.7956694031464986,
          2.8840110151135376,
          -0.14975747353579782,
          -2.213265899080175,
          2.2190446828866666,
          -1.6178479152606753,
          0.5554861852317249,
          -0.33886704850396915,
          0.24003848139021272,
          -0.8225786320516485,
          3.3367031089472627,
          0.9321329138367512
         ],
         "z": [
          -0.7715146382936873,
          -0.0905717007738867,
          2.986017645006491,
          0.42797215312398135,
          -1.0528579671334608,
          0.22849121009353632,
          -0.1882627950982558,
          1.4390168452519918,
          -1.0900438756041633,
          -1.9175233250610233,
          2.0958197847294655,
          1.2696984605771287,
          0.2867862597750346,
          0.9967326627723541,
          0.5549488659684139,
          2.2368478630953907,
          -2.505321241803761,
          -1.1274231246919728,
          -0.32465346292563285,
          -1.5155252417655412,
          2.406333472339816,
          -1.3786086301373535,
          -2.5152275761411182,
          -1.4668042321473178,
          0.19174974784948787,
          1.5896001683375187,
          1.118011850784543,
          -1.3143312671028289,
          -0.702199473430448,
          -1.1774725303503928,
          -2.881358933112269,
          3.4814830023335612,
          3.2916378394316914,
          1.7836564141215374,
          0.49416166492910946,
          0.30321729542722564,
          -0.2728876475990124,
          -1.1462867668787897,
          -0.8538202616672786,
          0.40942793510643105,
          0.7804770614166101,
          0.5798117973397351,
          -0.6731754770088086,
          -1.9432732060767965,
          1.3355550292287601,
          -1.8443310200844327,
          3.402804457923586,
          2.7196702360583096,
          0.7179999791757712,
          -0.10092768130189139,
          -3.1306268081911335,
          2.470635419928759,
          -1.520845912660702,
          0.029250413470779838,
          -1.1637678235365032,
          0.86138845834256,
          0.6393839566345803,
          0.07920807252320891,
          -0.27234351494954673,
          -0.9918441337989473,
          1.086277611305142,
          -1.8560629378640887,
          -0.45013548718990276,
          -2.247380152187632,
          -0.8319831429018079,
          1.0278408806695576,
          -0.6989859764690518,
          1.2415203283780334,
          1.0791665002065196,
          -0.6503411981074412,
          -0.9180145590793469,
          -0.32206343346198213,
          -1.660418946121316,
          -0.6820797054421078,
          1.7439542723515358,
          2.0423234807440727,
          -3.140416158976061,
          -0.5934400971345525,
          2.289494065211836,
          0.4324828960380889,
          1.0856437547290334,
          -0.1435520073830302,
          1.100118239498137,
          1.297153265644907,
          -0.21599256828129934,
          -1.4132961099965293,
          -0.2053056833336918,
          -0.14863266106987422,
          -0.9903328426149937,
          2.311819550695032,
          0.35133374907940346,
          -1.1748678653707698,
          -2.7549296432163723,
          -1.5958782300773589,
          1.1571264884012114,
          0.17926276124668897,
          1.1927849929606196,
          -0.171094492008594,
          -1.3747798278738528,
          -0.6522848647685833
         ]
        }
       ],
       "layout": {
        "coloraxis": {
         "colorbar": {
          "title": {
           "text": "color"
          }
         },
         "colorscale": [
          [
           0,
           "#0d0887"
          ],
          [
           0.1111111111111111,
           "#46039f"
          ],
          [
           0.2222222222222222,
           "#7201a8"
          ],
          [
           0.3333333333333333,
           "#9c179e"
          ],
          [
           0.4444444444444444,
           "#bd3786"
          ],
          [
           0.5555555555555556,
           "#d8576b"
          ],
          [
           0.6666666666666666,
           "#ed7953"
          ],
          [
           0.7777777777777778,
           "#fb9f3a"
          ],
          [
           0.8888888888888888,
           "#fdca26"
          ],
          [
           1,
           "#f0f921"
          ]
         ]
        },
        "legend": {
         "tracegroupgap": 0
        },
        "margin": {
         "t": 60
        },
        "scene": {
         "domain": {
          "x": [
           0,
           1
          ],
          "y": [
           0,
           1
          ]
         },
         "xaxis": {
          "title": {
           "text": "x"
          }
         },
         "yaxis": {
          "title": {
           "text": "y"
          }
         },
         "zaxis": {
          "title": {
           "text": "z"
          }
         }
        },
        "template": {
         "data": {
          "bar": [
           {
            "error_x": {
             "color": "#2a3f5f"
            },
            "error_y": {
             "color": "#2a3f5f"
            },
            "marker": {
             "line": {
              "color": "#E5ECF6",
              "width": 0.5
             }
            },
            "type": "bar"
           }
          ],
          "barpolar": [
           {
            "marker": {
             "line": {
              "color": "#E5ECF6",
              "width": 0.5
             }
            },
            "type": "barpolar"
           }
          ],
          "carpet": [
           {
            "aaxis": {
             "endlinecolor": "#2a3f5f",
             "gridcolor": "white",
             "linecolor": "white",
             "minorgridcolor": "white",
             "startlinecolor": "#2a3f5f"
            },
            "baxis": {
             "endlinecolor": "#2a3f5f",
             "gridcolor": "white",
             "linecolor": "white",
             "minorgridcolor": "white",
             "startlinecolor": "#2a3f5f"
            },
            "type": "carpet"
           }
          ],
          "choropleth": [
           {
            "colorbar": {
             "outlinewidth": 0,
             "ticks": ""
            },
            "type": "choropleth"
           }
          ],
          "contour": [
           {
            "colorbar": {
             "outlinewidth": 0,
             "ticks": ""
            },
            "colorscale": [
             [
              0,
              "#0d0887"
             ],
             [
              0.1111111111111111,
              "#46039f"
             ],
             [
              0.2222222222222222,
              "#7201a8"
             ],
             [
              0.3333333333333333,
              "#9c179e"
             ],
             [
              0.4444444444444444,
              "#bd3786"
             ],
             [
              0.5555555555555556,
              "#d8576b"
             ],
             [
              0.6666666666666666,
              "#ed7953"
             ],
             [
              0.7777777777777778,
              "#fb9f3a"
             ],
             [
              0.8888888888888888,
              "#fdca26"
             ],
             [
              1,
              "#f0f921"
             ]
            ],
            "type": "contour"
           }
          ],
          "contourcarpet": [
           {
            "colorbar": {
             "outlinewidth": 0,
             "ticks": ""
            },
            "type": "contourcarpet"
           }
          ],
          "heatmap": [
           {
            "colorbar": {
             "outlinewidth": 0,
             "ticks": ""
            },
            "colorscale": [
             [
              0,
              "#0d0887"
             ],
             [
              0.1111111111111111,
              "#46039f"
             ],
             [
              0.2222222222222222,
              "#7201a8"
             ],
             [
              0.3333333333333333,
              "#9c179e"
             ],
             [
              0.4444444444444444,
              "#bd3786"
             ],
             [
              0.5555555555555556,
              "#d8576b"
             ],
             [
              0.6666666666666666,
              "#ed7953"
             ],
             [
              0.7777777777777778,
              "#fb9f3a"
             ],
             [
              0.8888888888888888,
              "#fdca26"
             ],
             [
              1,
              "#f0f921"
             ]
            ],
            "type": "heatmap"
           }
          ],
          "heatmapgl": [
           {
            "colorbar": {
             "outlinewidth": 0,
             "ticks": ""
            },
            "colorscale": [
             [
              0,
              "#0d0887"
             ],
             [
              0.1111111111111111,
              "#46039f"
             ],
             [
              0.2222222222222222,
              "#7201a8"
             ],
             [
              0.3333333333333333,
              "#9c179e"
             ],
             [
              0.4444444444444444,
              "#bd3786"
             ],
             [
              0.5555555555555556,
              "#d8576b"
             ],
             [
              0.6666666666666666,
              "#ed7953"
             ],
             [
              0.7777777777777778,
              "#fb9f3a"
             ],
             [
              0.8888888888888888,
              "#fdca26"
             ],
             [
              1,
              "#f0f921"
             ]
            ],
            "type": "heatmapgl"
           }
          ],
          "histogram": [
           {
            "marker": {
             "colorbar": {
              "outlinewidth": 0,
              "ticks": ""
             }
            },
            "type": "histogram"
           }
          ],
          "histogram2d": [
           {
            "colorbar": {
             "outlinewidth": 0,
             "ticks": ""
            },
            "colorscale": [
             [
              0,
              "#0d0887"
             ],
             [
              0.1111111111111111,
              "#46039f"
             ],
             [
              0.2222222222222222,
              "#7201a8"
             ],
             [
              0.3333333333333333,
              "#9c179e"
             ],
             [
              0.4444444444444444,
              "#bd3786"
             ],
             [
              0.5555555555555556,
              "#d8576b"
             ],
             [
              0.6666666666666666,
              "#ed7953"
             ],
             [
              0.7777777777777778,
              "#fb9f3a"
             ],
             [
              0.8888888888888888,
              "#fdca26"
             ],
             [
              1,
              "#f0f921"
             ]
            ],
            "type": "histogram2d"
           }
          ],
          "histogram2dcontour": [
           {
            "colorbar": {
             "outlinewidth": 0,
             "ticks": ""
            },
            "colorscale": [
             [
              0,
              "#0d0887"
             ],
             [
              0.1111111111111111,
              "#46039f"
             ],
             [
              0.2222222222222222,
              "#7201a8"
             ],
             [
              0.3333333333333333,
              "#9c179e"
             ],
             [
              0.4444444444444444,
              "#bd3786"
             ],
             [
              0.5555555555555556,
              "#d8576b"
             ],
             [
              0.6666666666666666,
              "#ed7953"
             ],
             [
              0.7777777777777778,
              "#fb9f3a"
             ],
             [
              0.8888888888888888,
              "#fdca26"
             ],
             [
              1,
              "#f0f921"
             ]
            ],
            "type": "histogram2dcontour"
           }
          ],
          "mesh3d": [
           {
            "colorbar": {
             "outlinewidth": 0,
             "ticks": ""
            },
            "type": "mesh3d"
           }
          ],
          "parcoords": [
           {
            "line": {
             "colorbar": {
              "outlinewidth": 0,
              "ticks": ""
             }
            },
            "type": "parcoords"
           }
          ],
          "pie": [
           {
            "automargin": true,
            "type": "pie"
           }
          ],
          "scatter": [
           {
            "marker": {
             "colorbar": {
              "outlinewidth": 0,
              "ticks": ""
             }
            },
            "type": "scatter"
           }
          ],
          "scatter3d": [
           {
            "line": {
             "colorbar": {
              "outlinewidth": 0,
              "ticks": ""
             }
            },
            "marker": {
             "colorbar": {
              "outlinewidth": 0,
              "ticks": ""
             }
            },
            "type": "scatter3d"
           }
          ],
          "scattercarpet": [
           {
            "marker": {
             "colorbar": {
              "outlinewidth": 0,
              "ticks": ""
             }
            },
            "type": "scattercarpet"
           }
          ],
          "scattergeo": [
           {
            "marker": {
             "colorbar": {
              "outlinewidth": 0,
              "ticks": ""
             }
            },
            "type": "scattergeo"
           }
          ],
          "scattergl": [
           {
            "marker": {
             "colorbar": {
              "outlinewidth": 0,
              "ticks": ""
             }
            },
            "type": "scattergl"
           }
          ],
          "scattermapbox": [
           {
            "marker": {
             "colorbar": {
              "outlinewidth": 0,
              "ticks": ""
             }
            },
            "type": "scattermapbox"
           }
          ],
          "scatterpolar": [
           {
            "marker": {
             "colorbar": {
              "outlinewidth": 0,
              "ticks": ""
             }
            },
            "type": "scatterpolar"
           }
          ],
          "scatterpolargl": [
           {
            "marker": {
             "colorbar": {
              "outlinewidth": 0,
              "ticks": ""
             }
            },
            "type": "scatterpolargl"
           }
          ],
          "scatterternary": [
           {
            "marker": {
             "colorbar": {
              "outlinewidth": 0,
              "ticks": ""
             }
            },
            "type": "scatterternary"
           }
          ],
          "surface": [
           {
            "colorbar": {
             "outlinewidth": 0,
             "ticks": ""
            },
            "colorscale": [
             [
              0,
              "#0d0887"
             ],
             [
              0.1111111111111111,
              "#46039f"
             ],
             [
              0.2222222222222222,
              "#7201a8"
             ],
             [
              0.3333333333333333,
              "#9c179e"
             ],
             [
              0.4444444444444444,
              "#bd3786"
             ],
             [
              0.5555555555555556,
              "#d8576b"
             ],
             [
              0.6666666666666666,
              "#ed7953"
             ],
             [
              0.7777777777777778,
              "#fb9f3a"
             ],
             [
              0.8888888888888888,
              "#fdca26"
             ],
             [
              1,
              "#f0f921"
             ]
            ],
            "type": "surface"
           }
          ],
          "table": [
           {
            "cells": {
             "fill": {
              "color": "#EBF0F8"
             },
             "line": {
              "color": "white"
             }
            },
            "header": {
             "fill": {
              "color": "#C8D4E3"
             },
             "line": {
              "color": "white"
             }
            },
            "type": "table"
           }
          ]
         },
         "layout": {
          "annotationdefaults": {
           "arrowcolor": "#2a3f5f",
           "arrowhead": 0,
           "arrowwidth": 1
          },
          "coloraxis": {
           "colorbar": {
            "outlinewidth": 0,
            "ticks": ""
           }
          },
          "colorscale": {
           "diverging": [
            [
             0,
             "#8e0152"
            ],
            [
             0.1,
             "#c51b7d"
            ],
            [
             0.2,
             "#de77ae"
            ],
            [
             0.3,
             "#f1b6da"
            ],
            [
             0.4,
             "#fde0ef"
            ],
            [
             0.5,
             "#f7f7f7"
            ],
            [
             0.6,
             "#e6f5d0"
            ],
            [
             0.7,
             "#b8e186"
            ],
            [
             0.8,
             "#7fbc41"
            ],
            [
             0.9,
             "#4d9221"
            ],
            [
             1,
             "#276419"
            ]
           ],
           "sequential": [
            [
             0,
             "#0d0887"
            ],
            [
             0.1111111111111111,
             "#46039f"
            ],
            [
             0.2222222222222222,
             "#7201a8"
            ],
            [
             0.3333333333333333,
             "#9c179e"
            ],
            [
             0.4444444444444444,
             "#bd3786"
            ],
            [
             0.5555555555555556,
             "#d8576b"
            ],
            [
             0.6666666666666666,
             "#ed7953"
            ],
            [
             0.7777777777777778,
             "#fb9f3a"
            ],
            [
             0.8888888888888888,
             "#fdca26"
            ],
            [
             1,
             "#f0f921"
            ]
           ],
           "sequentialminus": [
            [
             0,
             "#0d0887"
            ],
            [
             0.1111111111111111,
             "#46039f"
            ],
            [
             0.2222222222222222,
             "#7201a8"
            ],
            [
             0.3333333333333333,
             "#9c179e"
            ],
            [
             0.4444444444444444,
             "#bd3786"
            ],
            [
             0.5555555555555556,
             "#d8576b"
            ],
            [
             0.6666666666666666,
             "#ed7953"
            ],
            [
             0.7777777777777778,
             "#fb9f3a"
            ],
            [
             0.8888888888888888,
             "#fdca26"
            ],
            [
             1,
             "#f0f921"
            ]
           ]
          },
          "colorway": [
           "#636efa",
           "#EF553B",
           "#00cc96",
           "#ab63fa",
           "#FFA15A",
           "#19d3f3",
           "#FF6692",
           "#B6E880",
           "#FF97FF",
           "#FECB52"
          ],
          "font": {
           "color": "#2a3f5f"
          },
          "geo": {
           "bgcolor": "white",
           "lakecolor": "white",
           "landcolor": "#E5ECF6",
           "showlakes": true,
           "showland": true,
           "subunitcolor": "white"
          },
          "hoverlabel": {
           "align": "left"
          },
          "hovermode": "closest",
          "mapbox": {
           "style": "light"
          },
          "paper_bgcolor": "white",
          "plot_bgcolor": "#E5ECF6",
          "polar": {
           "angularaxis": {
            "gridcolor": "white",
            "linecolor": "white",
            "ticks": ""
           },
           "bgcolor": "#E5ECF6",
           "radialaxis": {
            "gridcolor": "white",
            "linecolor": "white",
            "ticks": ""
           }
          },
          "scene": {
           "xaxis": {
            "backgroundcolor": "#E5ECF6",
            "gridcolor": "white",
            "gridwidth": 2,
            "linecolor": "white",
            "showbackground": true,
            "ticks": "",
            "zerolinecolor": "white"
           },
           "yaxis": {
            "backgroundcolor": "#E5ECF6",
            "gridcolor": "white",
            "gridwidth": 2,
            "linecolor": "white",
            "showbackground": true,
            "ticks": "",
            "zerolinecolor": "white"
           },
           "zaxis": {
            "backgroundcolor": "#E5ECF6",
            "gridcolor": "white",
            "gridwidth": 2,
            "linecolor": "white",
            "showbackground": true,
            "ticks": "",
            "zerolinecolor": "white"
           }
          },
          "shapedefaults": {
           "line": {
            "color": "#2a3f5f"
           }
          },
          "ternary": {
           "aaxis": {
            "gridcolor": "white",
            "linecolor": "white",
            "ticks": ""
           },
           "baxis": {
            "gridcolor": "white",
            "linecolor": "white",
            "ticks": ""
           },
           "bgcolor": "#E5ECF6",
           "caxis": {
            "gridcolor": "white",
            "linecolor": "white",
            "ticks": ""
           }
          },
          "title": {
           "x": 0.05
          },
          "xaxis": {
           "automargin": true,
           "gridcolor": "white",
           "linecolor": "white",
           "ticks": "",
           "title": {
            "standoff": 15
           },
           "zerolinecolor": "white",
           "zerolinewidth": 2
          },
          "yaxis": {
           "automargin": true,
           "gridcolor": "white",
           "linecolor": "white",
           "ticks": "",
           "title": {
            "standoff": 15
           },
           "zerolinecolor": "white",
           "zerolinewidth": 2
          }
         }
        }
       }
      }
     },
     "metadata": {},
     "output_type": "display_data"
    }
   ],
   "source": [
    "# import plotly\n",
    "import plotly.express as px\n",
    "\n",
    "# plot the above, with an interactive legend\n",
    "fig = px.scatter_3d(df_pivot, x=X_transform[:, 0], y=X_transform[:, 1], z=X_transform[:, 2],\n",
    "                    color = kmeans.labels_,\n",
    "                    \n",
    "                    hover_name='Senator'\n",
    ")\n",
    "\n",
    "# plot\n",
    "fig.show()"
   ]
  }
 ],
 "metadata": {
  "interpreter": {
   "hash": "8da00366e7d89e198182b211863ca468376f038ac2b7b34de3799fd03d57f1a0"
  },
  "kernelspec": {
   "display_name": "Python 3.8.2 64-bit",
   "language": "python",
   "name": "python3"
  },
  "language_info": {
   "codemirror_mode": {
    "name": "ipython",
    "version": 3
   },
   "file_extension": ".py",
   "mimetype": "text/x-python",
   "name": "python",
   "nbconvert_exporter": "python",
   "pygments_lexer": "ipython3",
   "version": "3.8.2"
  },
  "orig_nbformat": 4
 },
 "nbformat": 4,
 "nbformat_minor": 2
}
